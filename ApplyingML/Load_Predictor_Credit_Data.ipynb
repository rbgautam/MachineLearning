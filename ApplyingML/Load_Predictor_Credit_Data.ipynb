{
 "cells": [
  {
   "cell_type": "code",
   "execution_count": 25,
   "metadata": {
    "collapsed": true
   },
   "outputs": [],
   "source": [
    "import numpy as np\n",
    "import matplotlib.pyplot as mp\n",
    "import pandas as pd"
   ]
  },
  {
   "cell_type": "code",
   "execution_count": 26,
   "metadata": {},
   "outputs": [],
   "source": [
    "sampledata = pd.DataFrame(pd.read_csv('german_credit_data.csv', header = None))"
   ]
  },
  {
   "cell_type": "code",
   "execution_count": 27,
   "metadata": {},
   "outputs": [
    {
     "name": "stdout",
     "output_type": "stream",
     "text": [
      "[['A11' 6 'A34' ..., 1 'A192' 'A201']\n",
      " ['A12' 48 'A32' ..., 1 'A191' 'A201']\n",
      " ['A14' 12 'A34' ..., 2 'A191' 'A201']\n",
      " ..., \n",
      " ['A14' 12 'A32' ..., 1 'A191' 'A201']\n",
      " ['A11' 45 'A32' ..., 1 'A192' 'A201']\n",
      " ['A12' 45 'A34' ..., 1 'A191' 'A201']]\n"
     ]
    }
   ],
   "source": [
    "\n",
    "X = sampledata.iloc[:,:-1].values\n",
    "y = sampledata.iloc[:,20].values\n",
    "print(X)"
   ]
  },
  {
   "cell_type": "markdown",
   "metadata": {},
   "source": [
    "### Encode catagorical data"
   ]
  },
  {
   "cell_type": "code",
   "execution_count": 28,
   "metadata": {
    "collapsed": true
   },
   "outputs": [],
   "source": [
    "from sklearn.preprocessing import LabelEncoder, OneHotEncoder"
   ]
  },
  {
   "cell_type": "code",
   "execution_count": 34,
   "metadata": {},
   "outputs": [
    {
     "ename": "ValueError",
     "evalue": "Expected 2D array, got 1D array instead:\narray=[  0.00000000e+00   6.00000000e+00   4.00000000e+00   4.00000000e+00\n   1.16900000e+03   4.00000000e+00   4.00000000e+00   4.00000000e+00\n   2.00000000e+00   0.00000000e+00   4.00000000e+00   0.00000000e+00\n   6.70000000e+01   2.00000000e+00   1.00000000e+00   2.00000000e+00\n   2.00000000e+00   1.00000000e+00   1.00000000e+00   0.00000000e+00].\nReshape your data either using array.reshape(-1, 1) if your data has a single feature or array.reshape(1, -1) if it contains a single sample.",
     "output_type": "error",
     "traceback": [
      "\u001b[1;31m---------------------------------------------------------------------------\u001b[0m",
      "\u001b[1;31mValueError\u001b[0m                                Traceback (most recent call last)",
      "\u001b[1;32m<ipython-input-34-e52e831cacb8>\u001b[0m in \u001b[0;36m<module>\u001b[1;34m()\u001b[0m\n\u001b[0;32m      9\u001b[0m \u001b[1;32mfor\u001b[0m \u001b[0mcolItem\u001b[0m \u001b[1;32min\u001b[0m \u001b[0mcols_to_be_encoded\u001b[0m\u001b[1;33m:\u001b[0m\u001b[1;33m\u001b[0m\u001b[0m\n\u001b[0;32m     10\u001b[0m     \u001b[0moneHotEnc\u001b[0m \u001b[1;33m=\u001b[0m \u001b[0mOneHotEncoder\u001b[0m\u001b[1;33m(\u001b[0m\u001b[0mcategorical_features\u001b[0m\u001b[1;33m=\u001b[0m\u001b[1;33m[\u001b[0m\u001b[0mcolItem\u001b[0m\u001b[1;33m]\u001b[0m\u001b[1;33m)\u001b[0m\u001b[1;33m\u001b[0m\u001b[0m\n\u001b[1;32m---> 11\u001b[1;33m     \u001b[0mX\u001b[0m\u001b[1;33m[\u001b[0m\u001b[0mcolItem\u001b[0m\u001b[1;33m]\u001b[0m \u001b[1;33m=\u001b[0m \u001b[0moneHotEnc\u001b[0m\u001b[1;33m.\u001b[0m\u001b[0mfit_transform\u001b[0m\u001b[1;33m(\u001b[0m\u001b[0mX\u001b[0m\u001b[1;33m[\u001b[0m\u001b[0mcolItem\u001b[0m\u001b[1;33m]\u001b[0m\u001b[1;33m)\u001b[0m\u001b[1;33m.\u001b[0m\u001b[0mtoarray\u001b[0m\u001b[1;33m(\u001b[0m\u001b[1;33m)\u001b[0m\u001b[1;33m\u001b[0m\u001b[0m\n\u001b[0m\u001b[0;32m     12\u001b[0m \u001b[0mprint\u001b[0m\u001b[1;33m(\u001b[0m\u001b[0mX\u001b[0m\u001b[1;33m)\u001b[0m\u001b[1;33m\u001b[0m\u001b[0m\n",
      "\u001b[1;32mC:\\Program Files\\Anaconda3\\lib\\site-packages\\sklearn\\preprocessing\\data.py\u001b[0m in \u001b[0;36mfit_transform\u001b[1;34m(self, X, y)\u001b[0m\n\u001b[0;32m   2017\u001b[0m         \"\"\"\n\u001b[0;32m   2018\u001b[0m         return _transform_selected(X, self._fit_transform,\n\u001b[1;32m-> 2019\u001b[1;33m                                    self.categorical_features, copy=True)\n\u001b[0m\u001b[0;32m   2020\u001b[0m \u001b[1;33m\u001b[0m\u001b[0m\n\u001b[0;32m   2021\u001b[0m     \u001b[1;32mdef\u001b[0m \u001b[0m_transform\u001b[0m\u001b[1;33m(\u001b[0m\u001b[0mself\u001b[0m\u001b[1;33m,\u001b[0m \u001b[0mX\u001b[0m\u001b[1;33m)\u001b[0m\u001b[1;33m:\u001b[0m\u001b[1;33m\u001b[0m\u001b[0m\n",
      "\u001b[1;32mC:\\Program Files\\Anaconda3\\lib\\site-packages\\sklearn\\preprocessing\\data.py\u001b[0m in \u001b[0;36m_transform_selected\u001b[1;34m(X, transform, selected, copy)\u001b[0m\n\u001b[0;32m   1807\u001b[0m     \u001b[0mX\u001b[0m \u001b[1;33m:\u001b[0m \u001b[0marray\u001b[0m \u001b[1;32mor\u001b[0m \u001b[0msparse\u001b[0m \u001b[0mmatrix\u001b[0m\u001b[1;33m,\u001b[0m \u001b[0mshape\u001b[0m\u001b[1;33m=\u001b[0m\u001b[1;33m(\u001b[0m\u001b[0mn_samples\u001b[0m\u001b[1;33m,\u001b[0m \u001b[0mn_features_new\u001b[0m\u001b[1;33m)\u001b[0m\u001b[1;33m\u001b[0m\u001b[0m\n\u001b[0;32m   1808\u001b[0m     \"\"\"\n\u001b[1;32m-> 1809\u001b[1;33m     \u001b[0mX\u001b[0m \u001b[1;33m=\u001b[0m \u001b[0mcheck_array\u001b[0m\u001b[1;33m(\u001b[0m\u001b[0mX\u001b[0m\u001b[1;33m,\u001b[0m \u001b[0maccept_sparse\u001b[0m\u001b[1;33m=\u001b[0m\u001b[1;34m'csc'\u001b[0m\u001b[1;33m,\u001b[0m \u001b[0mcopy\u001b[0m\u001b[1;33m=\u001b[0m\u001b[0mcopy\u001b[0m\u001b[1;33m,\u001b[0m \u001b[0mdtype\u001b[0m\u001b[1;33m=\u001b[0m\u001b[0mFLOAT_DTYPES\u001b[0m\u001b[1;33m)\u001b[0m\u001b[1;33m\u001b[0m\u001b[0m\n\u001b[0m\u001b[0;32m   1810\u001b[0m \u001b[1;33m\u001b[0m\u001b[0m\n\u001b[0;32m   1811\u001b[0m     \u001b[1;32mif\u001b[0m \u001b[0misinstance\u001b[0m\u001b[1;33m(\u001b[0m\u001b[0mselected\u001b[0m\u001b[1;33m,\u001b[0m \u001b[0msix\u001b[0m\u001b[1;33m.\u001b[0m\u001b[0mstring_types\u001b[0m\u001b[1;33m)\u001b[0m \u001b[1;32mand\u001b[0m \u001b[0mselected\u001b[0m \u001b[1;33m==\u001b[0m \u001b[1;34m\"all\"\u001b[0m\u001b[1;33m:\u001b[0m\u001b[1;33m\u001b[0m\u001b[0m\n",
      "\u001b[1;32mC:\\Program Files\\Anaconda3\\lib\\site-packages\\sklearn\\utils\\validation.py\u001b[0m in \u001b[0;36mcheck_array\u001b[1;34m(array, accept_sparse, dtype, order, copy, force_all_finite, ensure_2d, allow_nd, ensure_min_samples, ensure_min_features, warn_on_dtype, estimator)\u001b[0m\n\u001b[0;32m    408\u001b[0m                     \u001b[1;34m\"Reshape your data either using array.reshape(-1, 1) if \"\u001b[0m\u001b[1;33m\u001b[0m\u001b[0m\n\u001b[0;32m    409\u001b[0m                     \u001b[1;34m\"your data has a single feature or array.reshape(1, -1) \"\u001b[0m\u001b[1;33m\u001b[0m\u001b[0m\n\u001b[1;32m--> 410\u001b[1;33m                     \"if it contains a single sample.\".format(array))\n\u001b[0m\u001b[0;32m    411\u001b[0m             \u001b[0marray\u001b[0m \u001b[1;33m=\u001b[0m \u001b[0mnp\u001b[0m\u001b[1;33m.\u001b[0m\u001b[0matleast_2d\u001b[0m\u001b[1;33m(\u001b[0m\u001b[0marray\u001b[0m\u001b[1;33m)\u001b[0m\u001b[1;33m\u001b[0m\u001b[0m\n\u001b[0;32m    412\u001b[0m             \u001b[1;31m# To ensure that array flags are maintained\u001b[0m\u001b[1;33m\u001b[0m\u001b[1;33m\u001b[0m\u001b[0m\n",
      "\u001b[1;31mValueError\u001b[0m: Expected 2D array, got 1D array instead:\narray=[  0.00000000e+00   6.00000000e+00   4.00000000e+00   4.00000000e+00\n   1.16900000e+03   4.00000000e+00   4.00000000e+00   4.00000000e+00\n   2.00000000e+00   0.00000000e+00   4.00000000e+00   0.00000000e+00\n   6.70000000e+01   2.00000000e+00   1.00000000e+00   2.00000000e+00\n   2.00000000e+00   1.00000000e+00   1.00000000e+00   0.00000000e+00].\nReshape your data either using array.reshape(-1, 1) if your data has a single feature or array.reshape(1, -1) if it contains a single sample."
     ]
    }
   ],
   "source": [
    "encode_col =  LabelEncoder()\n",
    "cols_to_be_encoded = [0,2,3,5,6,8,9,11,13,14,16,18,19]\n",
    "\n",
    "for col in cols_to_be_encoded:\n",
    "    #print(col)\n",
    "    X[:,col] = encode_col.fit_transform(X[:,col])\n",
    "#X[:,2] = encode_col.fit_transform(X[:,2])\n",
    "\n",
    "for colItem in cols_to_be_encoded:\n",
    "    oneHotEnc = OneHotEncoder(categorical_features=[colItem])\n",
    "    X[colItem] = oneHotEnc.fit_transform(X[colItem]).toarray()\n",
    "print(X)"
   ]
  },
  {
   "cell_type": "markdown",
   "metadata": {},
   "source": [
    "### Add Header to the sampledata"
   ]
  },
  {
   "cell_type": "code",
   "execution_count": 7,
   "metadata": {
    "collapsed": true
   },
   "outputs": [],
   "source": [
    "header = pd.read_csv('german_data_column_names.txt')"
   ]
  },
  {
   "cell_type": "code",
   "execution_count": 8,
   "metadata": {},
   "outputs": [
    {
     "name": "stdout",
     "output_type": "stream",
     "text": [
      "Empty DataFrame\n",
      "Columns: [status_checking,  loan_duration,  credit_history,  purpose,  credit_amount,  savings_amt,  emp_years,  percent_disp_income,  status_sex,  other_debts,  residence_since,  property,  age,  other_installments,  housing_status,  num_credits,  job_type,  num_dependant,  own_telephone,  foreign_worker,  credit_risk]\n",
      "Index: []\n",
      "\n",
      "[0 rows x 21 columns]\n"
     ]
    }
   ],
   "source": [
    "print(header) "
   ]
  },
  {
   "cell_type": "code",
   "execution_count": 9,
   "metadata": {},
   "outputs": [
    {
     "name": "stderr",
     "output_type": "stream",
     "text": [
      "C:\\Program Files\\Anaconda3\\lib\\site-packages\\pandas\\core\\indexes\\api.py:77: RuntimeWarning: '<' not supported between instances of 'str' and 'int', sort order is undefined for incomparable objects\n",
      "  result = result.union(other)\n"
     ]
    }
   ],
   "source": [
    "newdata = header.append(sampledata)"
   ]
  },
  {
   "cell_type": "code",
   "execution_count": 39,
   "metadata": {},
   "outputs": [
    {
     "name": "stdout",
     "output_type": "stream",
     "text": [
      "     age  credit_amount  credit_history  credit_risk  emp_years  \\\n",
      "0    NaN            NaN             NaN          NaN        NaN   \n",
      "1    NaN            NaN             NaN          NaN        NaN   \n",
      "2    NaN            NaN             NaN          NaN        NaN   \n",
      "3    NaN            NaN             NaN          NaN        NaN   \n",
      "4    NaN            NaN             NaN          NaN        NaN   \n",
      "5    NaN            NaN             NaN          NaN        NaN   \n",
      "6    NaN            NaN             NaN          NaN        NaN   \n",
      "7    NaN            NaN             NaN          NaN        NaN   \n",
      "8    NaN            NaN             NaN          NaN        NaN   \n",
      "9    NaN            NaN             NaN          NaN        NaN   \n",
      "10   NaN            NaN             NaN          NaN        NaN   \n",
      "11   NaN            NaN             NaN          NaN        NaN   \n",
      "12   NaN            NaN             NaN          NaN        NaN   \n",
      "13   NaN            NaN             NaN          NaN        NaN   \n",
      "14   NaN            NaN             NaN          NaN        NaN   \n",
      "15   NaN            NaN             NaN          NaN        NaN   \n",
      "16   NaN            NaN             NaN          NaN        NaN   \n",
      "17   NaN            NaN             NaN          NaN        NaN   \n",
      "18   NaN            NaN             NaN          NaN        NaN   \n",
      "19   NaN            NaN             NaN          NaN        NaN   \n",
      "20   NaN            NaN             NaN          NaN        NaN   \n",
      "21   NaN            NaN             NaN          NaN        NaN   \n",
      "22   NaN            NaN             NaN          NaN        NaN   \n",
      "23   NaN            NaN             NaN          NaN        NaN   \n",
      "24   NaN            NaN             NaN          NaN        NaN   \n",
      "25   NaN            NaN             NaN          NaN        NaN   \n",
      "26   NaN            NaN             NaN          NaN        NaN   \n",
      "27   NaN            NaN             NaN          NaN        NaN   \n",
      "28   NaN            NaN             NaN          NaN        NaN   \n",
      "29   NaN            NaN             NaN          NaN        NaN   \n",
      "..   ...            ...             ...          ...        ...   \n",
      "969  NaN            NaN             NaN          NaN        NaN   \n",
      "970  NaN            NaN             NaN          NaN        NaN   \n",
      "971  NaN            NaN             NaN          NaN        NaN   \n",
      "972  NaN            NaN             NaN          NaN        NaN   \n",
      "973  NaN            NaN             NaN          NaN        NaN   \n",
      "974  NaN            NaN             NaN          NaN        NaN   \n",
      "975  NaN            NaN             NaN          NaN        NaN   \n",
      "976  NaN            NaN             NaN          NaN        NaN   \n",
      "977  NaN            NaN             NaN          NaN        NaN   \n",
      "978  NaN            NaN             NaN          NaN        NaN   \n",
      "979  NaN            NaN             NaN          NaN        NaN   \n",
      "980  NaN            NaN             NaN          NaN        NaN   \n",
      "981  NaN            NaN             NaN          NaN        NaN   \n",
      "982  NaN            NaN             NaN          NaN        NaN   \n",
      "983  NaN            NaN             NaN          NaN        NaN   \n",
      "984  NaN            NaN             NaN          NaN        NaN   \n",
      "985  NaN            NaN             NaN          NaN        NaN   \n",
      "986  NaN            NaN             NaN          NaN        NaN   \n",
      "987  NaN            NaN             NaN          NaN        NaN   \n",
      "988  NaN            NaN             NaN          NaN        NaN   \n",
      "989  NaN            NaN             NaN          NaN        NaN   \n",
      "990  NaN            NaN             NaN          NaN        NaN   \n",
      "991  NaN            NaN             NaN          NaN        NaN   \n",
      "992  NaN            NaN             NaN          NaN        NaN   \n",
      "993  NaN            NaN             NaN          NaN        NaN   \n",
      "994  NaN            NaN             NaN          NaN        NaN   \n",
      "995  NaN            NaN             NaN          NaN        NaN   \n",
      "996  NaN            NaN             NaN          NaN        NaN   \n",
      "997  NaN            NaN             NaN          NaN        NaN   \n",
      "998  NaN            NaN             NaN          NaN        NaN   \n",
      "\n",
      "     foreign_worker  housing_status  job_type  loan_duration  num_credits  \\\n",
      "0               NaN             NaN       NaN            NaN          NaN   \n",
      "1               NaN             NaN       NaN            NaN          NaN   \n",
      "2               NaN             NaN       NaN            NaN          NaN   \n",
      "3               NaN             NaN       NaN            NaN          NaN   \n",
      "4               NaN             NaN       NaN            NaN          NaN   \n",
      "5               NaN             NaN       NaN            NaN          NaN   \n",
      "6               NaN             NaN       NaN            NaN          NaN   \n",
      "7               NaN             NaN       NaN            NaN          NaN   \n",
      "8               NaN             NaN       NaN            NaN          NaN   \n",
      "9               NaN             NaN       NaN            NaN          NaN   \n",
      "10              NaN             NaN       NaN            NaN          NaN   \n",
      "11              NaN             NaN       NaN            NaN          NaN   \n",
      "12              NaN             NaN       NaN            NaN          NaN   \n",
      "13              NaN             NaN       NaN            NaN          NaN   \n",
      "14              NaN             NaN       NaN            NaN          NaN   \n",
      "15              NaN             NaN       NaN            NaN          NaN   \n",
      "16              NaN             NaN       NaN            NaN          NaN   \n",
      "17              NaN             NaN       NaN            NaN          NaN   \n",
      "18              NaN             NaN       NaN            NaN          NaN   \n",
      "19              NaN             NaN       NaN            NaN          NaN   \n",
      "20              NaN             NaN       NaN            NaN          NaN   \n",
      "21              NaN             NaN       NaN            NaN          NaN   \n",
      "22              NaN             NaN       NaN            NaN          NaN   \n",
      "23              NaN             NaN       NaN            NaN          NaN   \n",
      "24              NaN             NaN       NaN            NaN          NaN   \n",
      "25              NaN             NaN       NaN            NaN          NaN   \n",
      "26              NaN             NaN       NaN            NaN          NaN   \n",
      "27              NaN             NaN       NaN            NaN          NaN   \n",
      "28              NaN             NaN       NaN            NaN          NaN   \n",
      "29              NaN             NaN       NaN            NaN          NaN   \n",
      "..              ...             ...       ...            ...          ...   \n",
      "969             NaN             NaN       NaN            NaN          NaN   \n",
      "970             NaN             NaN       NaN            NaN          NaN   \n",
      "971             NaN             NaN       NaN            NaN          NaN   \n",
      "972             NaN             NaN       NaN            NaN          NaN   \n",
      "973             NaN             NaN       NaN            NaN          NaN   \n",
      "974             NaN             NaN       NaN            NaN          NaN   \n",
      "975             NaN             NaN       NaN            NaN          NaN   \n",
      "976             NaN             NaN       NaN            NaN          NaN   \n",
      "977             NaN             NaN       NaN            NaN          NaN   \n",
      "978             NaN             NaN       NaN            NaN          NaN   \n",
      "979             NaN             NaN       NaN            NaN          NaN   \n",
      "980             NaN             NaN       NaN            NaN          NaN   \n",
      "981             NaN             NaN       NaN            NaN          NaN   \n",
      "982             NaN             NaN       NaN            NaN          NaN   \n",
      "983             NaN             NaN       NaN            NaN          NaN   \n",
      "984             NaN             NaN       NaN            NaN          NaN   \n",
      "985             NaN             NaN       NaN            NaN          NaN   \n",
      "986             NaN             NaN       NaN            NaN          NaN   \n",
      "987             NaN             NaN       NaN            NaN          NaN   \n",
      "988             NaN             NaN       NaN            NaN          NaN   \n",
      "989             NaN             NaN       NaN            NaN          NaN   \n",
      "990             NaN             NaN       NaN            NaN          NaN   \n",
      "991             NaN             NaN       NaN            NaN          NaN   \n",
      "992             NaN             NaN       NaN            NaN          NaN   \n",
      "993             NaN             NaN       NaN            NaN          NaN   \n",
      "994             NaN             NaN       NaN            NaN          NaN   \n",
      "995             NaN             NaN       NaN            NaN          NaN   \n",
      "996             NaN             NaN       NaN            NaN          NaN   \n",
      "997             NaN             NaN       NaN            NaN          NaN   \n",
      "998             NaN             NaN       NaN            NaN          NaN   \n",
      "\n",
      "          ...        A152  A173  A192  A201  A34  A43  A65  A75  A93  \\\n",
      "0         ...        A152  A173  A191  A201  A32  A43  A61  A73  A92   \n",
      "1         ...        A152  A172  A191  A201  A34  A46  A61  A74  A93   \n",
      "2         ...        A153  A173  A191  A201  A32  A42  A61  A74  A93   \n",
      "3         ...        A153  A173  A191  A201  A33  A40  A61  A73  A93   \n",
      "4         ...        A153  A172  A192  A201  A32  A46  A65  A73  A93   \n",
      "5         ...        A152  A173  A191  A201  A32  A42  A63  A75  A93   \n",
      "6         ...        A151  A174  A192  A201  A32  A41  A61  A73  A93   \n",
      "7         ...        A152  A172  A191  A201  A32  A43  A64  A74  A91   \n",
      "8         ...        A152  A174  A191  A201  A34  A40  A61  A71  A94   \n",
      "9         ...        A151  A173  A191  A201  A32  A40  A61  A72  A92   \n",
      "10        ...        A151  A173  A191  A201  A32  A49  A61  A72  A92   \n",
      "11        ...        A152  A173  A192  A201  A32  A43  A61  A73  A92   \n",
      "12        ...        A152  A172  A191  A201  A34  A40  A61  A75  A93   \n",
      "13        ...        A151  A173  A191  A201  A32  A40  A61  A73  A92   \n",
      "14        ...        A152  A172  A191  A201  A32  A43  A62  A73  A92   \n",
      "15        ...        A152  A173  A191  A201  A34  A43  A65  A75  A93   \n",
      "16        ...        A152  A173  A191  A201  A30  A49  A65  A72  A93   \n",
      "17        ...        A153  A174  A192  A201  A32  A41  A61  A75  A92   \n",
      "18        ...        A152  A173  A192  A201  A32  A43  A63  A75  A93   \n",
      "19        ...        A152  A173  A192  A201  A34  A40  A61  A73  A93   \n",
      "20        ...        A151  A173  A191  A201  A32  A43  A63  A73  A93   \n",
      "21        ...        A151  A172  A191  A202  A34  A40  A61  A72  A93   \n",
      "22        ...        A152  A173  A191  A201  A34  A41  A62  A72  A93   \n",
      "23        ...        A152  A173  A191  A202  A34  A42  A65  A73  A94   \n",
      "24        ...        A152  A172  A192  A201  A32  A42  A61  A73  A93   \n",
      "25        ...        A152  A172  A191  A201  A30  A43  A61  A75  A94   \n",
      "26        ...        A151  A173  A191  A201  A31  A43  A64  A73  A92   \n",
      "27        ...        A152  A173  A191  A201  A32  A43  A61  A73  A93   \n",
      "28        ...        A152  A173  A192  A201  A33  A49  A61  A75  A93   \n",
      "29        ...        A152  A173  A192  A201  A32  A49  A64  A72  A94   \n",
      "..        ...         ...   ...   ...   ...  ...  ...  ...  ...  ...   \n",
      "969       ...        A152  A173  A191  A201  A32  A45  A62  A73  A93   \n",
      "970       ...        A152  A172  A191  A201  A32  A40  A61  A73  A93   \n",
      "971       ...        A151  A171  A191  A201  A31  A40  A61  A71  A92   \n",
      "972       ...        A151  A173  A191  A201  A32  A49  A61  A75  A93   \n",
      "973       ...        A152  A173  A192  A201  A34  A43  A61  A73  A92   \n",
      "974       ...        A152  A172  A191  A201  A32  A43  A63  A73  A92   \n",
      "975       ...        A152  A173  A191  A201  A32  A43  A61  A73  A92   \n",
      "976       ...        A152  A173  A191  A201  A33  A49  A65  A75  A93   \n",
      "977       ...        A152  A172  A191  A201  A33  A40  A61  A75  A93   \n",
      "978       ...        A151  A173  A191  A201  A31  A40  A62  A73  A94   \n",
      "979       ...        A152  A173  A191  A201  A34  A42  A61  A74  A93   \n",
      "980       ...        A151  A174  A192  A201  A32  A49  A61  A71  A93   \n",
      "981       ...        A152  A174  A192  A201  A32  A40  A62  A73  A92   \n",
      "982       ...        A152  A173  A191  A201  A32  A41  A61  A73  A93   \n",
      "983       ...        A152  A172  A191  A201  A34  A42  A61  A74  A93   \n",
      "984       ...        A151  A173  A191  A201  A34  A42  A61  A73  A92   \n",
      "985       ...        A152  A173  A191  A201  A30  A49  A61  A72  A91   \n",
      "986       ...        A152  A173  A191  A201  A32  A43  A62  A71  A92   \n",
      "987       ...        A153  A174  A192  A201  A32  A41  A61  A71  A93   \n",
      "988       ...        A152  A172  A191  A201  A34  A43  A61  A75  A93   \n",
      "989       ...        A152  A172  A191  A201  A34  A46  A65  A72  A93   \n",
      "990       ...        A152  A172  A191  A201  A31  A43  A62  A75  A93   \n",
      "991       ...        A151  A172  A191  A201  A32  A43  A65  A74  A94   \n",
      "992       ...        A152  A174  A192  A201  A32  A42  A61  A71  A93   \n",
      "993       ...        A152  A173  A192  A201  A32  A40  A65  A75  A93   \n",
      "994       ...        A152  A172  A191  A201  A32  A42  A61  A74  A92   \n",
      "995       ...        A152  A174  A192  A201  A32  A41  A61  A73  A91   \n",
      "996       ...        A152  A173  A191  A201  A32  A43  A61  A75  A93   \n",
      "997       ...        A153  A173  A192  A201  A32  A43  A61  A73  A93   \n",
      "998       ...        A152  A173  A191  A201  A34  A41  A62  A71  A93   \n",
      "\n",
      "    status_checking  \n",
      "0               NaN  \n",
      "1               NaN  \n",
      "2               NaN  \n",
      "3               NaN  \n",
      "4               NaN  \n",
      "5               NaN  \n",
      "6               NaN  \n",
      "7               NaN  \n",
      "8               NaN  \n",
      "9               NaN  \n",
      "10              NaN  \n",
      "11              NaN  \n",
      "12              NaN  \n",
      "13              NaN  \n",
      "14              NaN  \n",
      "15              NaN  \n",
      "16              NaN  \n",
      "17              NaN  \n",
      "18              NaN  \n",
      "19              NaN  \n",
      "20              NaN  \n",
      "21              NaN  \n",
      "22              NaN  \n",
      "23              NaN  \n",
      "24              NaN  \n",
      "25              NaN  \n",
      "26              NaN  \n",
      "27              NaN  \n",
      "28              NaN  \n",
      "29              NaN  \n",
      "..              ...  \n",
      "969             NaN  \n",
      "970             NaN  \n",
      "971             NaN  \n",
      "972             NaN  \n",
      "973             NaN  \n",
      "974             NaN  \n",
      "975             NaN  \n",
      "976             NaN  \n",
      "977             NaN  \n",
      "978             NaN  \n",
      "979             NaN  \n",
      "980             NaN  \n",
      "981             NaN  \n",
      "982             NaN  \n",
      "983             NaN  \n",
      "984             NaN  \n",
      "985             NaN  \n",
      "986             NaN  \n",
      "987             NaN  \n",
      "988             NaN  \n",
      "989             NaN  \n",
      "990             NaN  \n",
      "991             NaN  \n",
      "992             NaN  \n",
      "993             NaN  \n",
      "994             NaN  \n",
      "995             NaN  \n",
      "996             NaN  \n",
      "997             NaN  \n",
      "998             NaN  \n",
      "\n",
      "[999 rows x 42 columns]\n"
     ]
    }
   ],
   "source": [
    "print(newdata)"
   ]
  },
  {
   "cell_type": "code",
   "execution_count": null,
   "metadata": {
    "collapsed": true
   },
   "outputs": [],
   "source": []
  }
 ],
 "metadata": {
  "kernelspec": {
   "display_name": "Python [conda root]",
   "language": "python",
   "name": "conda-root-py"
  },
  "language_info": {
   "codemirror_mode": {
    "name": "ipython",
    "version": 3
   },
   "file_extension": ".py",
   "mimetype": "text/x-python",
   "name": "python",
   "nbconvert_exporter": "python",
   "pygments_lexer": "ipython3",
   "version": "3.6.2"
  }
 },
 "nbformat": 4,
 "nbformat_minor": 2
}
